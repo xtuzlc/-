{
 "cells": [
  {
   "cell_type": "markdown",
   "metadata": {},
   "source": [
    "# PYTHON入门\n",
    "\n",
    "在第一节课中我们将会学习PYTHON的基础知识，包括PYTHON极其第三方库的安装与说明，PYTHON基础语法的学习。\n",
    "Let's Go!!"
   ]
  },
  {
   "cell_type": "markdown",
   "metadata": {},
   "source": [
    "## PYTHON简介\n",
    "PYTHON是一门脚本语言，简单易学，开源免费，插件多，被誉为“AI第语言”！ PYTHON目前最新的版本为3.6，我们教学就是使用最新的版本。很多同学听说过PYTHON2.7，那是最经典的古老版本，很遗憾它就要告别历史舞台了\n",
    "\n",
    "国内外很多大型网站的开发都是PYTHON完成的，比如豆瓣，youtube，知乎等等，可见PYTHON目前并不是小众语言，在编程领域它的地位日益突出，尤其是在当前人工智能火热的大潮流中，PYTHON更是快速的占领了制高点！\n",
    "\n",
    "Python的创始人为Guido van Rossum。1989年圣诞节期间，在阿姆斯特丹，Guido为了打发圣诞节的无趣，决心开发一个新的脚本解释程序，作为ABC 语言的一种继承。之所以选中Python（大蟒蛇的意思）作为该编程语言的名字，是因为他是一个叫Monty Python的喜剧团体的爱好者。\n",
    "\n",
    "[PYTHON的官网](https://www.python.org)\n",
    "\n",
    "[ANACONDA官网](https://www.continuum.io/downloads)\n",
    "\n",
    "[JUPYTER NOTEBOOK 插件](https://github.com/ipython-contrib/jupyter_contrib_nbextensions)\n",
    "\n",
    "先下载安装ANACONDA,安装好PYTHON环境以及课程需要的第三方库。然后安装好插件，方便实现一些复杂的功能哦！"
   ]
  },
  {
   "cell_type": "markdown",
   "metadata": {},
   "source": [
    "**说点实际的，为什么要学PYTHON？**\n",
    "1. 各大公司做数据分析和算法的必备和首选语言\n",
    "2. 库多库多库多\n",
    "3. 简单易学，开源免费\n",
    "4. 万能胶水语言，什么都能做"
   ]
  },
  {
   "cell_type": "markdown",
   "metadata": {},
   "source": [
    "## Hello World"
   ]
  },
  {
   "cell_type": "code",
   "execution_count": 2,
   "metadata": {},
   "outputs": [
    {
     "name": "stdout",
     "output_type": "stream",
     "text": [
      "Hello World\n"
     ]
    }
   ],
   "source": [
    "# 数值计算\n",
    "\n",
    "a = 1\n",
    "b = 2\n",
    "c = a + b\n",
    "#print(c)\n",
    "print(\"Hello World\")"
   ]
  },
  {
   "cell_type": "code",
   "execution_count": 4,
   "metadata": {},
   "outputs": [
    {
     "name": "stdout",
     "output_type": "stream",
     "text": [
      "Hello World\n"
     ]
    }
   ],
   "source": [
    "# 字符串拼接\n",
    "\n",
    "s1 = \"Hello\"\n",
    "s2 = \"World\"\n",
    "s3 = s1 + \" \" + s2\n",
    "print(s3)"
   ]
  },
  {
   "cell_type": "code",
   "execution_count": 5,
   "metadata": {},
   "outputs": [
    {
     "data": {
      "text/plain": [
       "1000.0"
      ]
     },
     "execution_count": 5,
     "metadata": {},
     "output_type": "execute_result"
    }
   ],
   "source": [
    "# 使用库\n",
    "\n",
    "#"
   ]
  },
  {
   "cell_type": "markdown",
   "metadata": {},
   "source": [
    "## PYTHON变量与数据类型\n",
    "PYTHON中没有常量的概念\n",
    "\n",
    "PYTHON基础数据类型有：boolean,int,string,float,double,datetime,bytes等"
   ]
  },
  {
   "cell_type": "code",
   "execution_count": 11,
   "metadata": {},
   "outputs": [
    {
     "name": "stdout",
     "output_type": "stream",
     "text": [
      "Hello\n",
      "World\n"
     ]
    }
   ],
   "source": [
    "s1 = \"Hello\"\n",
    "print(s1)\n",
    "s1 = \"World\"\n",
    "print(s1)"
   ]
  },
  {
   "cell_type": "markdown",
   "metadata": {},
   "source": [
    "### Boolean数据操作：or/and/not\n",
    "1. x or y \n",
    "2. x and y\n",
    "3. not x"
   ]
  },
  {
   "cell_type": "code",
   "execution_count": 16,
   "metadata": {},
   "outputs": [
    {
     "data": {
      "text/plain": [
       "False"
      ]
     },
     "execution_count": 16,
     "metadata": {},
     "output_type": "execute_result"
    }
   ],
   "source": [
    "3 > 4 and 2 >3"
   ]
  },
  {
   "cell_type": "code",
   "execution_count": 2,
   "metadata": {},
   "outputs": [
    {
     "data": {
      "text/plain": [
       "True"
      ]
     },
     "execution_count": 2,
     "metadata": {},
     "output_type": "execute_result"
    }
   ],
   "source": [
    "True or False"
   ]
  },
  {
   "cell_type": "code",
   "execution_count": 1,
   "metadata": {},
   "outputs": [
    {
     "data": {
      "text/plain": [
       "False"
      ]
     },
     "execution_count": 1,
     "metadata": {},
     "output_type": "execute_result"
    }
   ],
   "source": [
    "1>2 and 3< 4"
   ]
  },
  {
   "cell_type": "markdown",
   "metadata": {},
   "source": [
    "### 比较\n",
    "PYTHON中的比较操作返回的结果是boolean型数据，常用的操作如下：\n",
    "\n",
    "<img src=\"http://wx1.sinaimg.cn/mw690/d409b13ely1fntrp2t281j20hk0ek0ub.jpg\" width = \"300\" height = \"200\" alt=\"图片名称\" align=left />"
   ]
  },
  {
   "cell_type": "markdown",
   "metadata": {},
   "source": [
    "<span class=\"girk\">**重点注意的是：PYTHON中的 ”=“ 是赋值的意思，不是等于！ 要比较两个元素是否相等需要使用 ”==“**</span>"
   ]
  },
  {
   "cell_type": "code",
   "execution_count": 11,
   "metadata": {},
   "outputs": [
    {
     "data": {
      "text/plain": [
       "False"
      ]
     },
     "execution_count": 11,
     "metadata": {},
     "output_type": "execute_result"
    }
   ],
   "source": [
    "# 举个栗子\n",
    "2 > 3"
   ]
  },
  {
   "cell_type": "code",
   "execution_count": 12,
   "metadata": {},
   "outputs": [
    {
     "name": "stdout",
     "output_type": "stream",
     "text": [
      "ming\n"
     ]
    }
   ],
   "source": [
    "a = \"xiao\"\n",
    "b = \"ming\"\n",
    "a = b\n",
    "print(a)"
   ]
  },
  {
   "cell_type": "code",
   "execution_count": 13,
   "metadata": {},
   "outputs": [
    {
     "data": {
      "text/plain": [
       "True"
      ]
     },
     "execution_count": 13,
     "metadata": {},
     "output_type": "execute_result"
    }
   ],
   "source": [
    "a == b"
   ]
  },
  {
   "cell_type": "markdown",
   "metadata": {},
   "source": [
    "### 数值类型数据\n",
    "\n",
    "\n",
    "\n",
    "<img src=\"http://wx2.sinaimg.cn/mw690/d409b13ely1fntrotra89j214o0sete2.jpg\" width = \"500\" height = \"400\" alt=\"图片名称\" align=left />"
   ]
  },
  {
   "cell_type": "code",
   "execution_count": 19,
   "metadata": {},
   "outputs": [
    {
     "data": {
      "text/plain": [
       "4.5"
      ]
     },
     "execution_count": 19,
     "metadata": {},
     "output_type": "execute_result"
    }
   ],
   "source": [
    "a = 9 \n",
    "b = 2\n",
    "a / b"
   ]
  },
  {
   "cell_type": "code",
   "execution_count": 15,
   "metadata": {},
   "outputs": [
    {
     "data": {
      "text/plain": [
       "4"
      ]
     },
     "execution_count": 15,
     "metadata": {},
     "output_type": "execute_result"
    }
   ],
   "source": [
    "a // b"
   ]
  },
  {
   "cell_type": "code",
   "execution_count": 16,
   "metadata": {},
   "outputs": [
    {
     "data": {
      "text/plain": [
       "1"
      ]
     },
     "execution_count": 16,
     "metadata": {},
     "output_type": "execute_result"
    }
   ],
   "source": [
    "a % b"
   ]
  },
  {
   "cell_type": "code",
   "execution_count": 20,
   "metadata": {},
   "outputs": [
    {
     "data": {
      "text/plain": [
       "81"
      ]
     },
     "execution_count": 20,
     "metadata": {},
     "output_type": "execute_result"
    }
   ],
   "source": [
    "a**2"
   ]
  },
  {
   "cell_type": "raw",
   "metadata": {
    "solution2": "shown",
    "solution2_first": true
   },
   "source": [
    "Exercise1: 求下方公式的结果\n",
    "\n",
    "x = 10 \n",
    "y = 20 \n",
    "z = 15 \n",
    "\n",
    "x + y * z /x  - y *x // 3"
   ]
  },
  {
   "cell_type": "code",
   "execution_count": 21,
   "metadata": {
    "solution2": "shown"
   },
   "outputs": [
    {
     "data": {
      "text/plain": [
       "-26.0"
      ]
     },
     "execution_count": 21,
     "metadata": {},
     "output_type": "execute_result"
    }
   ],
   "source": [
    "x = 10 \n",
    "y = 20 \n",
    "z = 15 \n",
    "\n",
    "x + y * z /x  - y *x // 3"
   ]
  },
  {
   "cell_type": "code",
   "execution_count": 21,
   "metadata": {
    "solution2": "shown"
   },
   "outputs": [
    {
     "data": {
      "text/plain": [
       "-1850.0"
      ]
     },
     "execution_count": 21,
     "metadata": {},
     "output_type": "execute_result"
    }
   ],
   "source": [
    "x = 10 \n",
    "y = 20 \n",
    "z = 15 \n",
    "\n",
    "(x + y) * (z /x  - y) *x // 3"
   ]
  },
  {
   "cell_type": "code",
   "execution_count": 22,
   "metadata": {},
   "outputs": [
    {
     "data": {
      "text/plain": [
       "30"
      ]
     },
     "execution_count": 22,
     "metadata": {},
     "output_type": "execute_result"
    }
   ],
   "source": [
    "abs(-30)"
   ]
  },
  {
   "cell_type": "code",
   "execution_count": 26,
   "metadata": {},
   "outputs": [
    {
     "data": {
      "text/plain": [
       "1.0"
      ]
     },
     "execution_count": 26,
     "metadata": {},
     "output_type": "execute_result"
    }
   ],
   "source": [
    "float(1)"
   ]
  },
  {
   "cell_type": "markdown",
   "metadata": {},
   "source": [
    "## PYTHON数据结构\n",
    "在这里我们重点介绍四种我们将会常用的数据结构：list/tuple/dict/set"
   ]
  },
  {
   "cell_type": "markdown",
   "metadata": {},
   "source": [
    "### list\n",
    "\n",
    "列表是一种可存储任意类型数据的可修改序列结构。\n",
    "\n",
    "我们可以通过多种方式来创建列表：\n",
    "* 使用一对方括号创建空列表 []\n",
    "* 使用列表关键字创建 list()\n"
   ]
  },
  {
   "cell_type": "markdown",
   "metadata": {},
   "source": [
    "**列表常用的操作方法**\n",
    "\n",
    "<img src=\"http://wx4.sinaimg.cn/mw690/d409b13ely1fntron5kdhj21b80sigsn.jpg\" width = \"700\" height = \"600\" alt=\"图片名称\" align=left />\n"
   ]
  },
  {
   "cell_type": "code",
   "execution_count": 58,
   "metadata": {
    "collapsed": true
   },
   "outputs": [],
   "source": [
    "# 列表可以存储任意元素\n",
    "\n",
    "a = [1,2,3,4,5]\n",
    "\n",
    "b = [1,2,[3,4,5]] # 列表可以存储列表\n",
    "\n",
    "c = [\"xiaoming\",1,2,True,3.082]"
   ]
  },
  {
   "cell_type": "code",
   "execution_count": 59,
   "metadata": {},
   "outputs": [],
   "source": [
    "# 列表操作方法\n",
    "x = [6,7,8]\n",
    "b.extend(x)"
   ]
  },
  {
   "cell_type": "code",
   "execution_count": 65,
   "metadata": {},
   "outputs": [],
   "source": [
    "c.remove(\"xiaoming\")"
   ]
  },
  {
   "cell_type": "code",
   "execution_count": 67,
   "metadata": {},
   "outputs": [],
   "source": [
    "c.insert(0,\"xiaoming\")"
   ]
  },
  {
   "cell_type": "code",
   "execution_count": 69,
   "metadata": {},
   "outputs": [],
   "source": [
    "c.reverse()"
   ]
  },
  {
   "cell_type": "code",
   "execution_count": 70,
   "metadata": {},
   "outputs": [
    {
     "data": {
      "text/plain": [
       "[3.082, True, 2, 1, 'xiaoming']"
      ]
     },
     "execution_count": 70,
     "metadata": {},
     "output_type": "execute_result"
    }
   ],
   "source": [
    "c"
   ]
  },
  {
   "cell_type": "raw",
   "metadata": {
    "solution2": "shown",
    "solution2_first": true
   },
   "source": [
    "Exercise2: \n",
    "\n",
    "x = [10,20,34,45,64,20,100]\n",
    "请将列表中所有的 20 使用 0代替"
   ]
  },
  {
   "cell_type": "code",
   "execution_count": 31,
   "metadata": {
    "solution2": "shown"
   },
   "outputs": [
    {
     "data": {
      "text/plain": [
       "[10, 0, 34, 45, 0, 64, 100]"
      ]
     },
     "execution_count": 31,
     "metadata": {},
     "output_type": "execute_result"
    }
   ],
   "source": [
    "# A1\n",
    "x = [10,20,34,45,64,20,100]\n",
    "x.remove(20)\n",
    "x.remove(20)\n",
    "x.insert(1,0)\n",
    "x.insert(-2,0)\n",
    "x"
   ]
  },
  {
   "cell_type": "code",
   "execution_count": 34,
   "metadata": {
    "scrolled": true,
    "solution2": "shown"
   },
   "outputs": [
    {
     "name": "stdout",
     "output_type": "stream",
     "text": [
      "[10, 0, 34, 45, 64, 0, 100, 0, 30, 30, 0, 10, 30, 23, 45, 2, 1, 3, 4, 6, 22, 44, 39, 0]\n"
     ]
    }
   ],
   "source": [
    "# A2\n",
    "x = [10,20,34,45,64,20,100,20,30,30,20,10,30,23,45,2,1,3,4,6,22,44,39,20]\n",
    "i = 0\n",
    "while(i < len(x)):\n",
    "    if x[i] == 20:\n",
    "        x[i] = 0\n",
    "    i = i + 1\n",
    "print(x)"
   ]
  },
  {
   "cell_type": "code",
   "execution_count": null,
   "metadata": {
    "collapsed": true
   },
   "outputs": [],
   "source": [
    "x."
   ]
  },
  {
   "cell_type": "markdown",
   "metadata": {},
   "source": [
    "### tuple\n",
    "\n",
    "元祖的格式和用法几乎和列表一致，唯一的区别就是元祖是不可更改的序列，因此你只能从元祖中查找元素，但是不能修改元素。\n",
    "\n",
    "元祖的创建有以下几种方式：\n",
    "* 使用一对圆括号：( )\n",
    "* 使用tuple关键词：tuple()"
   ]
  },
  {
   "cell_type": "code",
   "execution_count": 73,
   "metadata": {},
   "outputs": [
    {
     "data": {
      "text/plain": [
       "('a', 'b', (1, 2, 3))"
      ]
     },
     "execution_count": 73,
     "metadata": {},
     "output_type": "execute_result"
    }
   ],
   "source": [
    "a = tuple([1,2,3])\n",
    "b = (\"a\",\"b\",a)\n",
    "b"
   ]
  },
  {
   "cell_type": "code",
   "execution_count": 79,
   "metadata": {},
   "outputs": [
    {
     "ename": "AttributeError",
     "evalue": "'tuple' object has no attribute 'append'",
     "output_type": "error",
     "traceback": [
      "\u001b[0;31m---------------------------------------------------------------------------\u001b[0m",
      "\u001b[0;31mAttributeError\u001b[0m                            Traceback (most recent call last)",
      "\u001b[0;32m<ipython-input-79-925d6ad2db2c>\u001b[0m in \u001b[0;36m<module>\u001b[0;34m()\u001b[0m\n\u001b[1;32m      1\u001b[0m \u001b[1;31m# 元祖操作\u001b[0m\u001b[1;33m\u001b[0m\u001b[1;33m\u001b[0m\u001b[0m\n\u001b[0;32m----> 2\u001b[0;31m \u001b[0mb\u001b[0m\u001b[1;33m.\u001b[0m\u001b[0mappend\u001b[0m\u001b[1;33m(\u001b[0m\u001b[1;36m3\u001b[0m\u001b[1;33m)\u001b[0m\u001b[1;33m\u001b[0m\u001b[0m\n\u001b[0m",
      "\u001b[0;31mAttributeError\u001b[0m: 'tuple' object has no attribute 'append'"
     ]
    }
   ],
   "source": [
    "# 元祖操作\n"
   ]
  },
  {
   "cell_type": "markdown",
   "metadata": {},
   "source": [
    "### 字典\n",
    "\n",
    "字典是以键值对(key-value)的形式存储数据，可以在O(1)的时间复杂度上查找数据，可以认为是当前最快的速度了！\n",
    "\n",
    "字典里的内容用“,\"隔开，每个元素是键值对，\":\"前的元素为key，这是唯一值不可重复的，\":\"后的元素为value"
   ]
  },
  {
   "cell_type": "code",
   "execution_count": 80,
   "metadata": {
    "collapsed": true
   },
   "outputs": [],
   "source": [
    "d = {\"name\":\"xiaoming\",\"age\":18,\"sex\":\"male\"}"
   ]
  },
  {
   "cell_type": "markdown",
   "metadata": {},
   "source": [
    "**获取或者存入元素必须根据key的位置**"
   ]
  },
  {
   "cell_type": "code",
   "execution_count": 83,
   "metadata": {},
   "outputs": [],
   "source": [
    "# 获取元素\n",
    "d['age']\n",
    "\n",
    "# 添加元素\n",
    "d['home'] = \"shanghai\""
   ]
  },
  {
   "cell_type": "code",
   "execution_count": 85,
   "metadata": {},
   "outputs": [],
   "source": [
    "d['home'] = \"beijing\""
   ]
  },
  {
   "cell_type": "code",
   "execution_count": 86,
   "metadata": {},
   "outputs": [
    {
     "data": {
      "text/plain": [
       "{'age': 18, 'home': 'beijing', 'name': 'xiaoming', 'sex': 'male'}"
      ]
     },
     "execution_count": 86,
     "metadata": {},
     "output_type": "execute_result"
    }
   ],
   "source": [
    "d"
   ]
  },
  {
   "cell_type": "code",
   "execution_count": 87,
   "metadata": {},
   "outputs": [
    {
     "ename": "KeyError",
     "evalue": "'address'",
     "output_type": "error",
     "traceback": [
      "\u001b[0;31m---------------------------------------------------------------------------\u001b[0m",
      "\u001b[0;31mKeyError\u001b[0m                                  Traceback (most recent call last)",
      "\u001b[0;32m<ipython-input-87-8f245f7af87f>\u001b[0m in \u001b[0;36m<module>\u001b[0;34m()\u001b[0m\n\u001b[1;32m      1\u001b[0m \u001b[1;31m# 如果key不存在，就会报错\u001b[0m\u001b[1;33m\u001b[0m\u001b[1;33m\u001b[0m\u001b[0m\n\u001b[0;32m----> 2\u001b[0;31m \u001b[0md\u001b[0m\u001b[1;33m[\u001b[0m\u001b[1;34m'address'\u001b[0m\u001b[1;33m]\u001b[0m\u001b[1;33m\u001b[0m\u001b[0m\n\u001b[0m",
      "\u001b[0;31mKeyError\u001b[0m: 'address'"
     ]
    }
   ],
   "source": [
    "# 如果key不存在，就会报错\n",
    "d['address']"
   ]
  },
  {
   "cell_type": "code",
   "execution_count": 90,
   "metadata": {},
   "outputs": [],
   "source": [
    "# 报错是我们想避免的情况\n",
    "d.get(\"address\")"
   ]
  },
  {
   "cell_type": "markdown",
   "metadata": {},
   "source": [
    "**字典的常用操作**"
   ]
  },
  {
   "cell_type": "code",
   "execution_count": 93,
   "metadata": {},
   "outputs": [
    {
     "ename": "KeyError",
     "evalue": "'address'",
     "output_type": "error",
     "traceback": [
      "\u001b[0;31m---------------------------------------------------------------------------\u001b[0m",
      "\u001b[0;31mKeyError\u001b[0m                                  Traceback (most recent call last)",
      "\u001b[0;32m<ipython-input-93-8d016a5059b1>\u001b[0m in \u001b[0;36m<module>\u001b[0;34m()\u001b[0m\n\u001b[1;32m      1\u001b[0m \u001b[1;31m# 删除key\u001b[0m\u001b[1;33m\u001b[0m\u001b[1;33m\u001b[0m\u001b[0m\n\u001b[0;32m----> 2\u001b[0;31m \u001b[0md\u001b[0m\u001b[1;33m.\u001b[0m\u001b[0mpop\u001b[0m\u001b[1;33m(\u001b[0m\u001b[1;34m\"address\"\u001b[0m\u001b[1;33m)\u001b[0m\u001b[1;33m\u001b[0m\u001b[0m\n\u001b[0m",
      "\u001b[0;31mKeyError\u001b[0m: 'address'"
     ]
    }
   ],
   "source": [
    "# 删除key\n",
    "d.pop(\"address\")"
   ]
  },
  {
   "cell_type": "code",
   "execution_count": 92,
   "metadata": {},
   "outputs": [
    {
     "data": {
      "text/plain": [
       "{'age': 18, 'name': 'xiaoming', 'sex': 'male'}"
      ]
     },
     "execution_count": 92,
     "metadata": {},
     "output_type": "execute_result"
    }
   ],
   "source": [
    "d"
   ]
  },
  {
   "cell_type": "code",
   "execution_count": 94,
   "metadata": {},
   "outputs": [
    {
     "name": "stdout",
     "output_type": "stream",
     "text": [
      "age\n",
      "18\n",
      "name\n",
      "xiaoming\n",
      "sex\n",
      "male\n"
     ]
    }
   ],
   "source": [
    "# 获取key/value\n",
    "for k,v in d.items():\n",
    "    print(k)\n",
    "    print(v)"
   ]
  },
  {
   "cell_type": "code",
   "execution_count": 96,
   "metadata": {},
   "outputs": [
    {
     "data": {
      "text/plain": [
       "dict_values([18, 'xiaoming', 'male'])"
      ]
     },
     "execution_count": 96,
     "metadata": {},
     "output_type": "execute_result"
    }
   ],
   "source": [
    "#d.keys()\n",
    "d.values()"
   ]
  },
  {
   "cell_type": "markdown",
   "metadata": {},
   "source": [
    "### set\n",
    "\n",
    "set也是key的集合，与字典类似。但是它不存储value,set中没用重复值，这几乎是它最重要的一个属性。\n",
    "\n",
    "回忆一下我们高中学的并集与交集知识，set可以直接被用来计算这样的逻辑"
   ]
  },
  {
   "cell_type": "code",
   "execution_count": 97,
   "metadata": {
    "collapsed": true
   },
   "outputs": [],
   "source": [
    "a = set([1,2,3,4,5,6,7])\n",
    "b = set([1,4,5,6,10,20,3])"
   ]
  },
  {
   "cell_type": "code",
   "execution_count": 98,
   "metadata": {},
   "outputs": [
    {
     "data": {
      "text/plain": [
       "{1, 2, 3, 4, 5, 6, 7, 10, 20}"
      ]
     },
     "execution_count": 98,
     "metadata": {},
     "output_type": "execute_result"
    }
   ],
   "source": [
    "# 并集查找\n",
    "a | b"
   ]
  },
  {
   "cell_type": "code",
   "execution_count": 99,
   "metadata": {},
   "outputs": [
    {
     "data": {
      "text/plain": [
       "{1, 3, 4, 5, 6}"
      ]
     },
     "execution_count": 99,
     "metadata": {},
     "output_type": "execute_result"
    }
   ],
   "source": [
    "# 交集查找\n",
    "a & b"
   ]
  },
  {
   "cell_type": "markdown",
   "metadata": {},
   "source": [
    "**set也支持多种多样的元素操作方法**"
   ]
  },
  {
   "cell_type": "code",
   "execution_count": 24,
   "metadata": {},
   "outputs": [
    {
     "data": {
      "text/plain": [
       "{1, 3, 4, 5, 6, 7, 10}"
      ]
     },
     "execution_count": 24,
     "metadata": {},
     "output_type": "execute_result"
    }
   ],
   "source": [
    "a.add(10)\n",
    "a.remove(2)"
   ]
  },
  {
   "cell_type": "code",
   "execution_count": null,
   "metadata": {
    "collapsed": true
   },
   "outputs": [],
   "source": []
  },
  {
   "cell_type": "markdown",
   "metadata": {},
   "source": [
    "## PYTHON条件判断与循环"
   ]
  },
  {
   "cell_type": "markdown",
   "metadata": {
    "solution2": "shown",
    "solution2_first": true
   },
   "source": [
    "**EXAMPLE**\n",
    "\n",
    "* 年龄 < 18 : 未成年\n",
    "* 年龄 >= 18 并且 < 30 ：年轻人\n",
    "* 年龄 >= 30 并且 < 60 : 中年人\n",
    "* 年龄 >= 60 : 老年人"
   ]
  },
  {
   "cell_type": "code",
   "execution_count": 104,
   "metadata": {
    "solution2": "shown"
   },
   "outputs": [
    {
     "name": "stdout",
     "output_type": "stream",
     "text": [
      "其他\n"
     ]
    }
   ],
   "source": [
    "age = -10\n",
    "\n",
    "if age < 18 and age >0:\n",
    "    print(\"未成年\")\n",
    "elif age >=18 and age <30:\n",
    "    print(\"中年人\")\n",
    "elif age >=30 and age <60:\n",
    "    print(\"中年人\")\n",
    "elif age >=60:\n",
    "    print(\"老年人\")\n",
    "else:\n",
    "    print(\"其他\")"
   ]
  },
  {
   "cell_type": "code",
   "execution_count": 9,
   "metadata": {
    "solution2": "shown"
   },
   "outputs": [
    {
     "data": {
      "text/plain": [
       "'中年人'"
      ]
     },
     "execution_count": 9,
     "metadata": {},
     "output_type": "execute_result"
    }
   ],
   "source": [
    "def judge_age(age):\n",
    "    if age < 18:\n",
    "        return \"未成年\"\n",
    "    elif age < 30:\n",
    "        return \"年轻人\"\n",
    "    elif age < 60:\n",
    "        return \"中年人\"\n",
    "    else:\n",
    "        return \"老年人\"\n",
    "\n",
    "judge_age(55)"
   ]
  },
  {
   "cell_type": "markdown",
   "metadata": {},
   "source": [
    "#### for循环\n",
    "for循环语句用来遍历集合中的每一个元素，用法简单。我们在之前遍历字典中已经使用过该方法"
   ]
  },
  {
   "cell_type": "code",
   "execution_count": 106,
   "metadata": {},
   "outputs": [
    {
     "name": "stdout",
     "output_type": "stream",
     "text": [
      "24\n",
      "27\n",
      "32\n",
      "39\n",
      "48\n",
      "59\n",
      "72\n"
     ]
    }
   ],
   "source": [
    "a = [1,2,3,4,5,6,7]\n",
    "for j in a:\n",
    "    print(j*j + 23)"
   ]
  },
  {
   "cell_type": "markdown",
   "metadata": {},
   "source": [
    "#### while\n",
    "当条件满足while的设定时，代码块会一直执行下去，除非不再满足条件。while是最容易导致死循环的，所以一定要仔细检查"
   ]
  },
  {
   "cell_type": "code",
   "execution_count": 107,
   "metadata": {
    "scrolled": true
   },
   "outputs": [
    {
     "name": "stdout",
     "output_type": "stream",
     "text": [
      "0\n",
      "1\n",
      "2\n",
      "3\n",
      "4\n",
      "5\n",
      "6\n",
      "7\n",
      "8\n",
      "9\n"
     ]
    }
   ],
   "source": [
    "i= 0\n",
    "while(i < 10):\n",
    "    print(i)\n",
    "    i = i+1"
   ]
  },
  {
   "cell_type": "markdown",
   "metadata": {},
   "source": [
    "可以看到我们一定会给条件变量设定一个自增量，否则就会导致死循环，因为i永远满足小于10的条件！"
   ]
  },
  {
   "cell_type": "raw",
   "metadata": {
    "solution2": "hidden"
   },
   "source": [
    "if <条件判断1>:\n",
    "    <执行1>\n",
    "elif <条件判断2>:\n",
    "    <执行2>\n",
    "elif <条件判断3>:\n",
    "    <执行3>\n",
    "else:\n",
    "    <执行4>"
   ]
  },
  {
   "cell_type": "markdown",
   "metadata": {},
   "source": [
    "## PYTHON函数"
   ]
  },
  {
   "cell_type": "raw",
   "metadata": {
    "solution2": "shown",
    "solution2_first": true
   },
   "source": [
    "Exercise:\n",
    "回顾我们之前要求替换列表中的含有20的这个元素题目。现在要求：\n",
    "写一个函数，可以对任意的列表使用任意值替换任意的元素，这里我们假设每次只操作一个列表和一个元素？\n"
   ]
  },
  {
   "cell_type": "code",
   "execution_count": 108,
   "metadata": {
    "solution2": "shown"
   },
   "outputs": [
    {
     "name": "stdout",
     "output_type": "stream",
     "text": [
      "[10, 0, 34, 45, 64, 0, 100, 0, 30, 30, 0, 10, 30, 23, 45, 2, 1, 3, 4, 6, 22, 44, 39, 0]\n"
     ]
    }
   ],
   "source": [
    "x = [10,20,34,45,64,20,100,20,30,30,20,10,30,23,45,2,1,3,4,6,22,44,39,20]\n",
    "i = 0\n",
    "while(i < len(x)):\n",
    "    if x[i] == 20:\n",
    "        x[i] = 0\n",
    "    i = i + 1\n",
    "print(x)"
   ]
  },
  {
   "cell_type": "code",
   "execution_count": 109,
   "metadata": {
    "collapsed": true,
    "solution2": "shown"
   },
   "outputs": [],
   "source": [
    "def replace_element(a_list,x,y):\n",
    "    i = 0\n",
    "    while(i < len(a_list)):\n",
    "        if a_list[i] == x:\n",
    "            a_list[i] = y\n",
    "        i = i + 1\n",
    "    return a_list"
   ]
  },
  {
   "cell_type": "code",
   "execution_count": 110,
   "metadata": {
    "collapsed": true
   },
   "outputs": [
    {
     "data": {
      "text/plain": [
       "[10,\n",
       " 0,\n",
       " 34,\n",
       " 45,\n",
       " 64,\n",
       " 0,\n",
       " 100,\n",
       " 0,\n",
       " -100,\n",
       " -100,\n",
       " 0,\n",
       " 10,\n",
       " -100,\n",
       " 23,\n",
       " 45,\n",
       " 2,\n",
       " 1,\n",
       " 3,\n",
       " 4,\n",
       " 6,\n",
       " 22,\n",
       " 44,\n",
       " 39,\n",
       " 0]"
      ]
     },
     "execution_count": 110,
     "metadata": {},
     "output_type": "execute_result"
    }
   ],
   "source": [
    "replace_element(x,30,-100)"
   ]
  },
  {
   "cell_type": "markdown",
   "metadata": {},
   "source": [
    "**在Python中，定义一个函数要使用def语句，依次写出函数名、括号、括号中的参数和冒号:，然后，在缩进块中编写函数体，函数的返回值用return语句返回**"
   ]
  },
  {
   "cell_type": "code",
   "execution_count": 111,
   "metadata": {
    "collapsed": true
   },
   "outputs": [],
   "source": [
    "def my_fun(a,b):\n",
    "    print(a + b)"
   ]
  },
  {
   "cell_type": "code",
   "execution_count": 112,
   "metadata": {},
   "outputs": [
    {
     "name": "stdout",
     "output_type": "stream",
     "text": [
      "3\n"
     ]
    }
   ],
   "source": [
    "my_fun(1,2)"
   ]
  },
  {
   "cell_type": "markdown",
   "metadata": {},
   "source": [
    "return 用于返回函数的结果，当然函数也可以不返回结果，那么此时就可以不适用return. return可以同时返回多个值，调用函数的时候需要用等数量的变量来传递值"
   ]
  },
  {
   "cell_type": "code",
   "execution_count": 113,
   "metadata": {},
   "outputs": [
    {
     "name": "stdout",
     "output_type": "stream",
     "text": [
      "9 24\n"
     ]
    }
   ],
   "source": [
    "def my_fun(x,y,z):\n",
    "    return x+y+z,x*y*z\n",
    "\n",
    "r1,r2 = my_fun(2,3,4)\n",
    "print(r1,r2)"
   ]
  },
  {
   "cell_type": "markdown",
   "metadata": {},
   "source": [
    "### 函数的参数\n",
    "PYTHON函数的定义方法非常简单，但是却很灵活，尤其是对参数的设定，可以多种多样。 除了正常的定义的必选参数外，还可以使用默认参数、可变参数和关键字参数。"
   ]
  },
  {
   "cell_type": "markdown",
   "metadata": {},
   "source": [
    "#### 位置参数\n",
    "位置参数可以理解为我们要按照参数的位置顺序传递值，这是最简单最常用的函数参数"
   ]
  },
  {
   "cell_type": "code",
   "execution_count": 114,
   "metadata": {
    "collapsed": true
   },
   "outputs": [],
   "source": [
    "def my_fun0(age,name,home):\n",
    "    if age > 18:\n",
    "        print(name)\n",
    "        print(home)"
   ]
  },
  {
   "cell_type": "code",
   "execution_count": 115,
   "metadata": {},
   "outputs": [
    {
     "name": "stdout",
     "output_type": "stream",
     "text": [
      "xiaoming\n",
      "shanghai\n"
     ]
    }
   ],
   "source": [
    "# 正确的传递\n",
    "my_fun0(22,\"xiaoming\",'shanghai')"
   ]
  },
  {
   "cell_type": "code",
   "execution_count": 116,
   "metadata": {
    "collapsed": true
   },
   "outputs": [
    {
     "ename": "TypeError",
     "evalue": "unorderable types: str() > int()",
     "output_type": "error",
     "traceback": [
      "\u001b[0;31m---------------------------------------------------------------------------\u001b[0m",
      "\u001b[0;31mTypeError\u001b[0m                                 Traceback (most recent call last)",
      "\u001b[0;32m<ipython-input-116-6728a576ebd3>\u001b[0m in \u001b[0;36m<module>\u001b[0;34m()\u001b[0m\n\u001b[1;32m      1\u001b[0m \u001b[1;31m# 错误的传递\u001b[0m\u001b[1;33m\u001b[0m\u001b[1;33m\u001b[0m\u001b[0m\n\u001b[0;32m----> 2\u001b[0;31m \u001b[0mmy_fun0\u001b[0m\u001b[1;33m(\u001b[0m\u001b[1;34m\"xiaoming\"\u001b[0m\u001b[1;33m,\u001b[0m\u001b[1;36m22\u001b[0m\u001b[1;33m,\u001b[0m\u001b[1;34m\"shanghai\"\u001b[0m\u001b[1;33m)\u001b[0m\u001b[1;33m\u001b[0m\u001b[0m\n\u001b[0m",
      "\u001b[0;32m<ipython-input-114-3c78398cf740>\u001b[0m in \u001b[0;36mmy_fun0\u001b[0;34m(age, name, home)\u001b[0m\n\u001b[1;32m      1\u001b[0m \u001b[1;32mdef\u001b[0m \u001b[0mmy_fun0\u001b[0m\u001b[1;33m(\u001b[0m\u001b[0mage\u001b[0m\u001b[1;33m,\u001b[0m\u001b[0mname\u001b[0m\u001b[1;33m,\u001b[0m\u001b[0mhome\u001b[0m\u001b[1;33m)\u001b[0m\u001b[1;33m:\u001b[0m\u001b[1;33m\u001b[0m\u001b[0m\n\u001b[0;32m----> 2\u001b[0;31m     \u001b[1;32mif\u001b[0m \u001b[0mage\u001b[0m \u001b[1;33m>\u001b[0m \u001b[1;36m18\u001b[0m\u001b[1;33m:\u001b[0m\u001b[1;33m\u001b[0m\u001b[0m\n\u001b[0m\u001b[1;32m      3\u001b[0m         \u001b[0mprint\u001b[0m\u001b[1;33m(\u001b[0m\u001b[0mname\u001b[0m\u001b[1;33m)\u001b[0m\u001b[1;33m\u001b[0m\u001b[0m\n\u001b[1;32m      4\u001b[0m         \u001b[0mprint\u001b[0m\u001b[1;33m(\u001b[0m\u001b[0mhome\u001b[0m\u001b[1;33m)\u001b[0m\u001b[1;33m\u001b[0m\u001b[0m\n",
      "\u001b[0;31mTypeError\u001b[0m: unorderable types: str() > int()"
     ]
    }
   ],
   "source": [
    "# 错误的传递\n",
    "my_fun0(\"xiaoming\",22,\"shanghai\")"
   ]
  },
  {
   "cell_type": "code",
   "execution_count": 43,
   "metadata": {},
   "outputs": [
    {
     "name": "stdout",
     "output_type": "stream",
     "text": [
      "xiaoming\n",
      "shanghai\n"
     ]
    }
   ],
   "source": [
    "# 或者通过指定参数名称来传入值，这样就不需要考虑顺序\n",
    "my_fun0(name = \"xiaoming\",age = 22,home = \"shanghai\")"
   ]
  },
  {
   "cell_type": "markdown",
   "metadata": {},
   "source": [
    "#### 默认参数\n",
    "\n",
    "很多时候我们会给某一个参数船体默认值。比如说我们现在关心的是上海人的数据情况，那么我们那就可以固定一下home的值为“shanghai\"，这样就不需要每次调用函数的时候都要重新传递值"
   ]
  },
  {
   "cell_type": "code",
   "execution_count": 45,
   "metadata": {},
   "outputs": [],
   "source": [
    "def my_fun0(age,name,home = \"shanghai\"):\n",
    "    if age > 18:\n",
    "        print(name)\n",
    "        print(home)"
   ]
  },
  {
   "cell_type": "code",
   "execution_count": 47,
   "metadata": {},
   "outputs": [
    {
     "name": "stdout",
     "output_type": "stream",
     "text": [
      "xiaohong\n",
      "shanghai\n"
     ]
    }
   ],
   "source": [
    "my_fun0(33,\"xiaohong\")"
   ]
  },
  {
   "cell_type": "markdown",
   "metadata": {},
   "source": [
    "那如果突然有一个人来自北京呢，我们可以修改默认参数值么？ 答案是肯定的"
   ]
  },
  {
   "cell_type": "code",
   "execution_count": 48,
   "metadata": {},
   "outputs": [
    {
     "name": "stdout",
     "output_type": "stream",
     "text": [
      "xiaogang\n",
      "beijing\n"
     ]
    }
   ],
   "source": [
    "my_fun0(33,\"xiaogang\",\"beijing\")"
   ]
  },
  {
   "cell_type": "markdown",
   "metadata": {},
   "source": []
  },
  {
   "cell_type": "markdown",
   "metadata": {},
   "source": [
    "#### 可变参数\n",
    "\n",
    "可变参数顾名思义就是传入的参数个数是可变的，可以是任意的。\n",
    "\n",
    "假设我们需要定义一个函数计算一下：1ｘ1 + 2ｘ2 + 3ｘ3 + 4ｘ4，可以传入一个只保存[1,2,3,4]的列表或者元素参数，如下所示："
   ]
  },
  {
   "cell_type": "code",
   "execution_count": 117,
   "metadata": {
    "collapsed": true
   },
   "outputs": [],
   "source": [
    "def my_fun(x):\n",
    "    r = 0\n",
    "    for i in x:\n",
    "        r = r+i*i\n",
    "    return r"
   ]
  },
  {
   "cell_type": "code",
   "execution_count": 119,
   "metadata": {},
   "outputs": [
    {
     "data": {
      "text/plain": [
       "30"
      ]
     },
     "execution_count": 119,
     "metadata": {},
     "output_type": "execute_result"
    }
   ],
   "source": [
    "x = [1,2,3,4]\n",
    "my_fun(x)"
   ]
  },
  {
   "cell_type": "markdown",
   "metadata": {},
   "source": [
    "但是每次调用都需要预先组装一个列表或者元祖，有点麻烦。或者如果每次我们调用函数的时候都计算不同的n呢？那我们得组装不同的n个列表。我们尝试使用可变参数来看一下："
   ]
  },
  {
   "cell_type": "code",
   "execution_count": 120,
   "metadata": {
    "collapsed": true
   },
   "outputs": [],
   "source": [
    "def my_fun1(*x):\n",
    "    r = 0\n",
    "    for i in x:\n",
    "        r = r+i*i\n",
    "    return r"
   ]
  },
  {
   "cell_type": "markdown",
   "metadata": {},
   "source": [
    "可以看到我们仅仅是在参数前面加上一个星号*,里面的计算逻辑完全不改变，就能实现之前说的可变想法，其调用也不需要再额外组装列表,函数内部会把参数作为一个tuple来进行使用"
   ]
  },
  {
   "cell_type": "code",
   "execution_count": 122,
   "metadata": {},
   "outputs": [
    {
     "data": {
      "text/plain": [
       "140"
      ]
     },
     "execution_count": 122,
     "metadata": {},
     "output_type": "execute_result"
    }
   ],
   "source": [
    "\n",
    "my_fun1(1,2,3,4,5,6,7)"
   ]
  },
  {
   "cell_type": "code",
   "execution_count": 27,
   "metadata": {},
   "outputs": [
    {
     "data": {
      "text/plain": [
       "0"
      ]
     },
     "execution_count": 27,
     "metadata": {},
     "output_type": "execute_result"
    }
   ],
   "source": [
    "my_fun1()"
   ]
  },
  {
   "cell_type": "markdown",
   "metadata": {},
   "source": [
    "如果我们已经有了一个列表[1,2,3,4,5,6,7,8,9],我们怎么计算上述所说的公式呢？ 来看一下可变参数的强大之处："
   ]
  },
  {
   "cell_type": "code",
   "execution_count": 124,
   "metadata": {},
   "outputs": [
    {
     "data": {
      "text/plain": [
       "285"
      ]
     },
     "execution_count": 124,
     "metadata": {},
     "output_type": "execute_result"
    }
   ],
   "source": [
    "a = [1,2,3,4,5,6,7,8,9]\n",
    "\n",
    "\n",
    "\n",
    "\n",
    "my_fun1(*a)"
   ]
  },
  {
   "cell_type": "markdown",
   "metadata": {},
   "source": [
    "#### 关键字参数\n",
    "关键字参数可以传入任意个带有参数名的参数，这些参数会在函数内部组装成一个字典格式. "
   ]
  },
  {
   "cell_type": "code",
   "execution_count": 127,
   "metadata": {},
   "outputs": [],
   "source": [
    "def my_fun2(name,**kv):\n",
    "    if name == \"小明\":\n",
    "        for k,v in kv.items():\n",
    "            print(k)\n",
    "            print(v)"
   ]
  },
  {
   "cell_type": "markdown",
   "metadata": {},
   "source": [
    "函数my_fun2除了一个必选参数name之外，还接受了一个关键词参数kv，我们在函数内部把它当做一个字典进行使用"
   ]
  },
  {
   "cell_type": "code",
   "execution_count": 128,
   "metadata": {},
   "outputs": [
    {
     "name": "stdout",
     "output_type": "stream",
     "text": [
      "age\n",
      "18\n",
      "home\n",
      "shanghai\n",
      "sex\n",
      "male\n"
     ]
    }
   ],
   "source": [
    "fun2 = my_fun2(\"小明\",age = 18,sex= \"male\",home = \"shanghai\") # 可变参数的数量可以是任意的\n"
   ]
  },
  {
   "cell_type": "markdown",
   "metadata": {},
   "source": [
    "#### 参数组合\n",
    "在Python中定义函数，可以用必选参数、默认参数、可变参数、关键字参数和命名关键字参数，这5种参数都可以组合使用。但是请注意，参数定义的顺序必须是：必选参数、默认参数、可变参数、命名关键字参数和关键字参数。"
   ]
  },
  {
   "cell_type": "code",
   "execution_count": 133,
   "metadata": {},
   "outputs": [],
   "source": [
    "def complex_fun(name,home = \"shanghai\",*args,**kv):\n",
    "    if name ==\"xiaoming\":\n",
    "        r = 0\n",
    "        for i in args:\n",
    "            r = i +r\n",
    "        print(r)\n",
    "    elif name == \"xiaohong\":\n",
    "        for k,v in kv.items():\n",
    "            print(k,\":\",v)\n",
    "    else:\n",
    "        print(\"Not \"+ home)"
   ]
  },
  {
   "cell_type": "code",
   "execution_count": 130,
   "metadata": {},
   "outputs": [
    {
     "name": "stdout",
     "output_type": "stream",
     "text": [
      "12\n"
     ]
    }
   ],
   "source": [
    "a = [1,2,3,3,4]\n",
    "complex_fun(\"xiaoming\",*a,age=18,sex=\"male\")"
   ]
  },
  {
   "cell_type": "code",
   "execution_count": 131,
   "metadata": {},
   "outputs": [
    {
     "name": "stdout",
     "output_type": "stream",
     "text": [
      "age : 18\n",
      "sex : male\n"
     ]
    }
   ],
   "source": [
    "complex_fun(\"xiaohong\",*a,age=18,sex=\"male\")"
   ]
  },
  {
   "cell_type": "markdown",
   "metadata": {},
   "source": [
    "## 列表生成器\n",
    "列表生成器是python内置方法却又非常强大的功能，我们在处理数据的时候一定要灵活掌握该方法。\n",
    "通过一个列子来解释一下什么是列表生成器："
   ]
  },
  {
   "cell_type": "raw",
   "metadata": {
    "solution2": "shown",
    "solution2_first": true
   },
   "source": [
    "生成一个 [1,2,3,..,100]的列表,真很容易\n",
    "list(range(1,101))\n",
    "\n",
    "假设要生成一个 [1*1,2*2,...,100*100]的列表呢？\n"
   ]
  },
  {
   "cell_type": "code",
   "execution_count": 136,
   "metadata": {
    "collapsed": true,
    "solution2": "shown"
   },
   "outputs": [
    {
     "data": {
      "text/plain": [
       "[1,\n",
       " 4,\n",
       " 9,\n",
       " 16,\n",
       " 25,\n",
       " 36,\n",
       " 49,\n",
       " 64,\n",
       " 81,\n",
       " 100,\n",
       " 121,\n",
       " 144,\n",
       " 169,\n",
       " 196,\n",
       " 225,\n",
       " 256,\n",
       " 289,\n",
       " 324,\n",
       " 361,\n",
       " 400,\n",
       " 441,\n",
       " 484,\n",
       " 529,\n",
       " 576,\n",
       " 625,\n",
       " 676,\n",
       " 729,\n",
       " 784,\n",
       " 841,\n",
       " 900,\n",
       " 961,\n",
       " 1024,\n",
       " 1089,\n",
       " 1156,\n",
       " 1225,\n",
       " 1296,\n",
       " 1369,\n",
       " 1444,\n",
       " 1521,\n",
       " 1600,\n",
       " 1681,\n",
       " 1764,\n",
       " 1849,\n",
       " 1936,\n",
       " 2025,\n",
       " 2116,\n",
       " 2209,\n",
       " 2304,\n",
       " 2401,\n",
       " 2500,\n",
       " 2601,\n",
       " 2704,\n",
       " 2809,\n",
       " 2916,\n",
       " 3025,\n",
       " 3136,\n",
       " 3249,\n",
       " 3364,\n",
       " 3481,\n",
       " 3600,\n",
       " 3721,\n",
       " 3844,\n",
       " 3969,\n",
       " 4096,\n",
       " 4225,\n",
       " 4356,\n",
       " 4489,\n",
       " 4624,\n",
       " 4761,\n",
       " 4900,\n",
       " 5041,\n",
       " 5184,\n",
       " 5329,\n",
       " 5476,\n",
       " 5625,\n",
       " 5776,\n",
       " 5929,\n",
       " 6084,\n",
       " 6241,\n",
       " 6400,\n",
       " 6561,\n",
       " 6724,\n",
       " 6889,\n",
       " 7056,\n",
       " 7225,\n",
       " 7396,\n",
       " 7569,\n",
       " 7744,\n",
       " 7921,\n",
       " 8100,\n",
       " 8281,\n",
       " 8464,\n",
       " 8649,\n",
       " 8836,\n",
       " 9025,\n",
       " 9216,\n",
       " 9409,\n",
       " 9604,\n",
       " 9801,\n",
       " 10000]"
      ]
     },
     "execution_count": 136,
     "metadata": {},
     "output_type": "execute_result"
    }
   ],
   "source": [
    "# 列表生成器一般把元素写在前面，后面使用for循环读取每一个元素\n",
    "\n",
    "[x * x for x in range(1,101)]"
   ]
  },
  {
   "cell_type": "raw",
   "metadata": {
    "solution2": "shown",
    "solution2_first": true
   },
   "source": [
    "还可以接上if语句进行判断\n",
    "上面的列子，只生成能被2整除的元素列表"
   ]
  },
  {
   "cell_type": "code",
   "execution_count": 137,
   "metadata": {
    "collapsed": true,
    "solution2": "shown"
   },
   "outputs": [
    {
     "data": {
      "text/plain": [
       "[4,\n",
       " 16,\n",
       " 36,\n",
       " 64,\n",
       " 100,\n",
       " 144,\n",
       " 196,\n",
       " 256,\n",
       " 324,\n",
       " 400,\n",
       " 484,\n",
       " 576,\n",
       " 676,\n",
       " 784,\n",
       " 900,\n",
       " 1024,\n",
       " 1156,\n",
       " 1296,\n",
       " 1444,\n",
       " 1600,\n",
       " 1764,\n",
       " 1936,\n",
       " 2116,\n",
       " 2304,\n",
       " 2500,\n",
       " 2704,\n",
       " 2916,\n",
       " 3136,\n",
       " 3364,\n",
       " 3600,\n",
       " 3844,\n",
       " 4096,\n",
       " 4356,\n",
       " 4624,\n",
       " 4900,\n",
       " 5184,\n",
       " 5476,\n",
       " 5776,\n",
       " 6084,\n",
       " 6400,\n",
       " 6724,\n",
       " 7056,\n",
       " 7396,\n",
       " 7744,\n",
       " 8100,\n",
       " 8464,\n",
       " 8836,\n",
       " 9216,\n",
       " 9604,\n",
       " 10000]"
      ]
     },
     "execution_count": 137,
     "metadata": {},
     "output_type": "execute_result"
    }
   ],
   "source": [
    "[x * x for x in range(1,101) if x % 2 ==0]"
   ]
  },
  {
   "cell_type": "raw",
   "metadata": {
    "solution2": "shown",
    "solution2_first": true
   },
   "source": [
    "更复杂的，我们可以嵌套多个循环，但是一般来说两层循环就够了"
   ]
  },
  {
   "cell_type": "code",
   "execution_count": 15,
   "metadata": {
    "collapsed": true,
    "solution2": "shown"
   },
   "outputs": [
    {
     "data": {
      "text/plain": [
       "[11,\n",
       " 21,\n",
       " 31,\n",
       " 41,\n",
       " 51,\n",
       " 12,\n",
       " 22,\n",
       " 32,\n",
       " 42,\n",
       " 52,\n",
       " 13,\n",
       " 23,\n",
       " 33,\n",
       " 43,\n",
       " 53,\n",
       " 14,\n",
       " 24,\n",
       " 34,\n",
       " 44,\n",
       " 54,\n",
       " 15,\n",
       " 25,\n",
       " 35,\n",
       " 45,\n",
       " 55]"
      ]
     },
     "execution_count": 15,
     "metadata": {},
     "output_type": "execute_result"
    }
   ],
   "source": [
    "a = [1,2,3,4,5]\n",
    "b = [10,20,30,40,50]\n",
    "[m +n for m in a for n in b]"
   ]
  }
 ],
 "metadata": {
  "anaconda-cloud": {},
  "kernelspec": {
   "display_name": "Python 3",
   "language": "python",
   "name": "python3"
  },
  "language_info": {
   "codemirror_mode": {
    "name": "ipython",
    "version": 3
   },
   "file_extension": ".py",
   "mimetype": "text/x-python",
   "name": "python",
   "nbconvert_exporter": "python",
   "pygments_lexer": "ipython3",
   "version": "3.7.0"
  },
  "latex_envs": {
   "LaTeX_envs_menu_present": true,
   "autocomplete": true,
   "bibliofile": "biblio.bib",
   "cite_by": "apalike",
   "current_citInitial": 1,
   "eqLabelWithNumbers": true,
   "eqNumInitial": 1,
   "hotkeys": {
    "equation": "Ctrl-E",
    "itemize": "Ctrl-I"
   },
   "labels_anchors": false,
   "latex_user_defs": false,
   "report_style_numbering": false,
   "user_envs_cfg": false
  },
  "toc": {
   "nav_menu": {},
   "number_sections": true,
   "sideBar": false,
   "skip_h1_title": false,
   "toc_cell": false,
   "toc_position": {
    "height": "284px",
    "left": "1068px",
    "right": "98.2473px",
    "top": "349px",
    "width": "212px"
   },
   "toc_section_display": "block",
   "toc_window_display": true
  }
 },
 "nbformat": 4,
 "nbformat_minor": 2
}
